{
 "cells": [
  {
   "cell_type": "code",
   "execution_count": 1,
   "metadata": {
    "id": "xh54kp7ML5-y"
   },
   "outputs": [],
   "source": [
    "from tensorflow import keras\n",
    "import numpy as np\n",
    "import matplotlib.pyplot as plt\n",
    "import tensorflow as tf"
   ]
  },
  {
   "cell_type": "code",
   "execution_count": 2,
   "metadata": {
    "id": "E0wi-KRnL5-y"
   },
   "outputs": [],
   "source": [
    "def readucr(filename):\n",
    "    data = np.loadtxt(filename, delimiter=\"\\t\")\n",
    "    y = data[:, 0]\n",
    "    x = data[:, 1:]\n",
    "    return x, y.astype(int)\n",
    "\n",
    "x_train, y_train = readucr(\"Wafer_TRAIN.tsv\")\n",
    "x_test, y_test = readucr(\"Wafer_TEST.tsv\")"
   ]
  },
  {
   "cell_type": "code",
   "execution_count": 3,
   "metadata": {
    "id": "c7uLXrW8L5-z"
   },
   "outputs": [
    {
     "data": {
      "image/png": "[encoded data removed]",
      "text/plain": [
       "<Figure size 432x288 with 1 Axes>"
      ]
     },
     "metadata": {
      "needs_background": "light"
     },
     "output_type": "display_data"
    }
   ],
   "source": [
    "classes = np.unique(np.concatenate((y_train, y_test), axis=0))\n",
    "\n",
    "plt.figure()\n",
    "for c in classes:\n",
    "    c_x_train = x_train[y_train == c]\n",
    "    plt.plot(c_x_train[0], label=\"class \" + str(c))\n",
    "plt.legend(loc=\"best\")\n",
    "plt.show()\n",
    "plt.close()"
   ]
  },
  {
   "cell_type": "markdown",
   "metadata": {
    "id": "hopPKIZUL5-z"
   },
   "source": [
    "## Prepare the data\n"
   ]
  },
  {
   "cell_type": "code",
   "execution_count": 4,
   "metadata": {
    "id": "1I_P7aReL5-z"
   },
   "outputs": [],
   "source": [
    "x_train = x_train.reshape((x_train.shape[0], x_train.shape[1], 1))\n",
    "x_test = x_test.reshape((x_test.shape[0], x_test.shape[1], 1))"
   ]
  },
  {
   "cell_type": "markdown",
   "metadata": {
    "id": "JRYsU0YAL5-0"
   },
   "source": [
    "Finally, in order to use `sparse_categorical_crossentropy`, we will have to count\n",
    "the number of classes beforehand."
   ]
  },
  {
   "cell_type": "code",
   "execution_count": 5,
   "metadata": {
    "id": "dzL--3I0L5-0"
   },
   "outputs": [],
   "source": [
    "num_classes = len(np.unique(y_train))"
   ]
  },
  {
   "cell_type": "markdown",
   "metadata": {
    "id": "AGOo4XpLL5-0"
   },
   "source": [
    "Now we shuffle the training set because we will be using the `validation_split` option\n",
    "later when training."
   ]
  },
  {
   "cell_type": "code",
   "execution_count": 6,
   "metadata": {
    "id": "OzRhs--EL5-0"
   },
   "outputs": [],
   "source": [
    "idx = np.random.permutation(len(x_train))\n",
    "x_train = x_train[idx]\n",
    "y_train = y_train[idx]"
   ]
  },
  {
   "cell_type": "markdown",
   "metadata": {
    "id": "zGlZ5smVL5-0"
   },
   "source": [
    "Standardize the labels to positive integers.\n",
    "The expected labels will then be 0 and 1."
   ]
  },
  {
   "cell_type": "code",
   "execution_count": 7,
   "metadata": {
    "id": "EhmF5jdNL5-0"
   },
   "outputs": [],
   "source": [
    "y_train[y_train == -1] = 0\n",
    "y_test[y_test == -1] = 0"
   ]
  },
  {
   "cell_type": "markdown",
   "metadata": {
    "id": "vjptZ2dfL5-0"
   },
   "source": [
    "## Build a model"
   ]
  },
  {
   "cell_type": "code",
   "execution_count": 8,
   "metadata": {},
   "outputs": [],
   "source": [
    "def make_model(input_shape):\n",
    "    input_layer = keras.layers.Input(input_shape)\n",
    "    x = tf.keras.layers.LSTM(32, return_sequences=True)(input_layer)\n",
    "    x = tf.keras.layers.LSTM(16)(x)\n",
    "    output_layer = keras.layers.Dense(num_classes, activation=\"softmax\")(x)\n",
    "\n",
    "    return keras.models.Model(inputs=input_layer, outputs=output_layer)\n",
    "\n",
    "\n",
    "model = make_model(input_shape=x_train.shape[1:])\n"
   ]
  },
  {
   "cell_type": "markdown",
   "metadata": {
    "id": "dMLDmYQEL5-0"
   },
   "source": [
    "## Train the model"
   ]
  },
  {
   "cell_type": "code",
   "execution_count": 9,
   "metadata": {
    "id": "fw-osRQrL5-1"
   },
   "outputs": [
    {
     "name": "stdout",
     "output_type": "stream",
     "text": [
      "Epoch 1/40\n",
      "155/155 [==============================] - 26s 127ms/step - loss: 0.5770 - sparse_categorical_accuracy: 0.7712 - val_loss: 0.4271 - val_sparse_categorical_accuracy: 0.8954 - lr: 1.0000e-04\n",
      "Epoch 2/40\n",
      "155/155 [==============================] - 20s 127ms/step - loss: 0.3604 - sparse_categorical_accuracy: 0.8913 - val_loss: 0.3189 - val_sparse_categorical_accuracy: 0.8954 - lr: 1.0000e-04\n",
      "Epoch 3/40\n",
      "155/155 [==============================] - 17s 111ms/step - loss: 0.2936 - sparse_categorical_accuracy: 0.8913 - val_loss: 0.2484 - val_sparse_categorical_accuracy: 0.8954 - lr: 1.0000e-04\n",
      "Epoch 4/40\n",
      "155/155 [==============================] - 17s 112ms/step - loss: 0.1989 - sparse_categorical_accuracy: 0.9020 - val_loss: 0.1552 - val_sparse_categorical_accuracy: 0.9132 - lr: 1.0000e-04\n",
      "Epoch 5/40\n",
      "155/155 [==============================] - 17s 113ms/step - loss: 0.1215 - sparse_categorical_accuracy: 0.9590 - val_loss: 0.0979 - val_sparse_categorical_accuracy: 0.9781 - lr: 1.0000e-04\n",
      "Epoch 6/40\n",
      "155/155 [==============================] - 18s 115ms/step - loss: 0.0775 - sparse_categorical_accuracy: 0.9870 - val_loss: 0.0798 - val_sparse_categorical_accuracy: 0.9805 - lr: 1.0000e-04\n",
      "Epoch 7/40\n",
      "155/155 [==============================] - 17s 112ms/step - loss: 0.0620 - sparse_categorical_accuracy: 0.9882 - val_loss: 0.0640 - val_sparse_categorical_accuracy: 0.9846 - lr: 1.0000e-04\n",
      "Epoch 8/40\n",
      "155/155 [==============================] - 17s 111ms/step - loss: 0.0534 - sparse_categorical_accuracy: 0.9884 - val_loss: 0.0587 - val_sparse_categorical_accuracy: 0.9846 - lr: 1.0000e-04\n",
      "Epoch 9/40\n",
      "155/155 [==============================] - 18s 113ms/step - loss: 0.0491 - sparse_categorical_accuracy: 0.9897 - val_loss: 0.0544 - val_sparse_categorical_accuracy: 0.9878 - lr: 1.0000e-04\n",
      "Epoch 10/40\n",
      "155/155 [==============================] - 17s 109ms/step - loss: 0.0443 - sparse_categorical_accuracy: 0.9897 - val_loss: 0.0525 - val_sparse_categorical_accuracy: 0.9886 - lr: 1.0000e-04\n",
      "Epoch 11/40\n",
      "155/155 [==============================] - 18s 118ms/step - loss: 0.0420 - sparse_categorical_accuracy: 0.9909 - val_loss: 0.0492 - val_sparse_categorical_accuracy: 0.9878 - lr: 1.0000e-04\n",
      "Epoch 12/40\n",
      "155/155 [==============================] - 17s 112ms/step - loss: 0.0398 - sparse_categorical_accuracy: 0.9909 - val_loss: 0.0508 - val_sparse_categorical_accuracy: 0.9838 - lr: 1.0000e-04\n",
      "Epoch 13/40\n",
      "155/155 [==============================] - 16s 101ms/step - loss: 0.0422 - sparse_categorical_accuracy: 0.9886 - val_loss: 0.0457 - val_sparse_categorical_accuracy: 0.9911 - lr: 1.0000e-04\n",
      "Epoch 14/40\n",
      "155/155 [==============================] - 17s 112ms/step - loss: 0.0376 - sparse_categorical_accuracy: 0.9905 - val_loss: 0.0445 - val_sparse_categorical_accuracy: 0.9895 - lr: 1.0000e-04\n",
      "Epoch 15/40\n",
      "155/155 [==============================] - 18s 117ms/step - loss: 0.0355 - sparse_categorical_accuracy: 0.9909 - val_loss: 0.0416 - val_sparse_categorical_accuracy: 0.9903 - lr: 1.0000e-04\n",
      "Epoch 16/40\n",
      "155/155 [==============================] - 21s 134ms/step - loss: 0.0338 - sparse_categorical_accuracy: 0.9919 - val_loss: 0.0447 - val_sparse_categorical_accuracy: 0.9895 - lr: 1.0000e-04\n",
      "Epoch 17/40\n",
      "155/155 [==============================] - 18s 114ms/step - loss: 0.0333 - sparse_categorical_accuracy: 0.9919 - val_loss: 0.0453 - val_sparse_categorical_accuracy: 0.9862 - lr: 1.0000e-04\n",
      "Epoch 18/40\n",
      "155/155 [==============================] - 17s 112ms/step - loss: 0.0332 - sparse_categorical_accuracy: 0.9917 - val_loss: 0.0424 - val_sparse_categorical_accuracy: 0.9870 - lr: 1.0000e-04\n",
      "Epoch 19/40\n",
      "155/155 [==============================] - 22s 142ms/step - loss: 0.0328 - sparse_categorical_accuracy: 0.9917 - val_loss: 0.0436 - val_sparse_categorical_accuracy: 0.9878 - lr: 1.0000e-04\n",
      "Epoch 20/40\n",
      "155/155 [==============================] - 21s 135ms/step - loss: 0.0314 - sparse_categorical_accuracy: 0.9919 - val_loss: 0.0405 - val_sparse_categorical_accuracy: 0.9870 - lr: 1.0000e-04\n",
      "Epoch 21/40\n",
      "155/155 [==============================] - 18s 118ms/step - loss: 0.0308 - sparse_categorical_accuracy: 0.9911 - val_loss: 0.0382 - val_sparse_categorical_accuracy: 0.9903 - lr: 1.0000e-04\n",
      "Epoch 22/40\n",
      "155/155 [==============================] - 19s 125ms/step - loss: 0.0318 - sparse_categorical_accuracy: 0.9909 - val_loss: 0.0378 - val_sparse_categorical_accuracy: 0.9911 - lr: 1.0000e-04\n",
      "Epoch 23/40\n",
      "155/155 [==============================] - 20s 127ms/step - loss: 0.0304 - sparse_categorical_accuracy: 0.9917 - val_loss: 0.0456 - val_sparse_categorical_accuracy: 0.9838 - lr: 1.0000e-04\n",
      "Epoch 24/40\n",
      "155/155 [==============================] - 17s 110ms/step - loss: 0.0294 - sparse_categorical_accuracy: 0.9925 - val_loss: 0.0378 - val_sparse_categorical_accuracy: 0.9911 - lr: 1.0000e-04\n",
      "Epoch 25/40\n",
      "155/155 [==============================] - 18s 118ms/step - loss: 0.0285 - sparse_categorical_accuracy: 0.9925 - val_loss: 0.0423 - val_sparse_categorical_accuracy: 0.9830 - lr: 1.0000e-04\n",
      "Epoch 26/40\n",
      "155/155 [==============================] - 16s 103ms/step - loss: 0.0296 - sparse_categorical_accuracy: 0.9919 - val_loss: 0.0366 - val_sparse_categorical_accuracy: 0.9911 - lr: 1.0000e-04\n",
      "Epoch 27/40\n",
      "155/155 [==============================] - 17s 112ms/step - loss: 0.0281 - sparse_categorical_accuracy: 0.9927 - val_loss: 0.0376 - val_sparse_categorical_accuracy: 0.9895 - lr: 1.0000e-04\n",
      "Epoch 28/40\n",
      "155/155 [==============================] - 23s 146ms/step - loss: 0.0280 - sparse_categorical_accuracy: 0.9919 - val_loss: 0.0363 - val_sparse_categorical_accuracy: 0.9903 - lr: 1.0000e-04\n",
      "Epoch 29/40\n",
      "155/155 [==============================] - 18s 116ms/step - loss: 0.0270 - sparse_categorical_accuracy: 0.9935 - val_loss: 0.0361 - val_sparse_categorical_accuracy: 0.9911 - lr: 1.0000e-04\n",
      "Epoch 30/40\n",
      "155/155 [==============================] - 17s 112ms/step - loss: 0.0275 - sparse_categorical_accuracy: 0.9923 - val_loss: 0.0350 - val_sparse_categorical_accuracy: 0.9919 - lr: 1.0000e-04\n",
      "Epoch 31/40\n",
      "155/155 [==============================] - 17s 112ms/step - loss: 0.0274 - sparse_categorical_accuracy: 0.9925 - val_loss: 0.0341 - val_sparse_categorical_accuracy: 0.9911 - lr: 1.0000e-04\n",
      "Epoch 32/40\n",
      "155/155 [==============================] - 17s 110ms/step - loss: 0.0271 - sparse_categorical_accuracy: 0.9929 - val_loss: 0.0356 - val_sparse_categorical_accuracy: 0.9911 - lr: 1.0000e-04\n",
      "Epoch 33/40\n",
      "155/155 [==============================] - 16s 104ms/step - loss: 0.0262 - sparse_categorical_accuracy: 0.9927 - val_loss: 0.0323 - val_sparse_categorical_accuracy: 0.9927 - lr: 1.0000e-04\n",
      "Epoch 34/40\n",
      "155/155 [==============================] - 17s 112ms/step - loss: 0.0267 - sparse_categorical_accuracy: 0.9927 - val_loss: 0.0345 - val_sparse_categorical_accuracy: 0.9895 - lr: 1.0000e-04\n",
      "Epoch 35/40\n",
      "155/155 [==============================] - 16s 102ms/step - loss: 0.0255 - sparse_categorical_accuracy: 0.9929 - val_loss: 0.0391 - val_sparse_categorical_accuracy: 0.9846 - lr: 1.0000e-04\n",
      "Epoch 36/40\n",
      "155/155 [==============================] - 16s 100ms/step - loss: 0.0274 - sparse_categorical_accuracy: 0.9923 - val_loss: 0.0344 - val_sparse_categorical_accuracy: 0.9903 - lr: 1.0000e-04\n",
      "Epoch 37/40\n",
      "155/155 [==============================] - 16s 103ms/step - loss: 0.0259 - sparse_categorical_accuracy: 0.9931 - val_loss: 0.0331 - val_sparse_categorical_accuracy: 0.9919 - lr: 1.0000e-04\n",
      "Epoch 38/40\n",
      "155/155 [==============================] - 16s 102ms/step - loss: 0.0253 - sparse_categorical_accuracy: 0.9939 - val_loss: 0.0355 - val_sparse_categorical_accuracy: 0.9911 - lr: 1.0000e-04\n",
      "Epoch 39/40\n",
      "155/155 [==============================] - 16s 103ms/step - loss: 0.0247 - sparse_categorical_accuracy: 0.9937 - val_loss: 0.0319 - val_sparse_categorical_accuracy: 0.9927 - lr: 5.0000e-05\n",
      "Epoch 40/40\n",
      "155/155 [==============================] - 17s 109ms/step - loss: 0.0244 - sparse_categorical_accuracy: 0.9939 - val_loss: 0.0314 - val_sparse_categorical_accuracy: 0.9927 - lr: 5.0000e-05\n"
     ]
    }
   ],
   "source": [
    "epochs = 40\n",
    "batch_size = 32\n",
    "\n",
    "callbacks = [\n",
    "    keras.callbacks.ModelCheckpoint(\n",
    "        \"best_model.h5\", save_best_only=True, monitor=\"val_loss\"\n",
    "    ),\n",
    "    keras.callbacks.ReduceLROnPlateau(\n",
    "        monitor=\"val_loss\", factor=0.5, patience=5, min_lr=1e-6\n",
    "    ),\n",
    "]\n",
    "model.compile(\n",
    "    optimizer=tf.keras.optimizers.Adam(learning_rate=1e-4),\n",
    "    loss=\"sparse_categorical_crossentropy\",\n",
    "    metrics=[\"sparse_categorical_accuracy\"],\n",
    ")\n",
    "history = model.fit(\n",
    "    x_train,\n",
    "    y_train,\n",
    "    batch_size=batch_size,\n",
    "    epochs=epochs,\n",
    "    callbacks=callbacks,\n",
    "    validation_split=0.2,\n",
    "    verbose=1,\n",
    ")"
   ]
  },
  {
   "cell_type": "markdown",
   "metadata": {
    "id": "y0d_d4r_L5-1"
   },
   "source": [
    "## Evaluate model on test data"
   ]
  },
  {
   "cell_type": "code",
   "execution_count": 10,
   "metadata": {
    "id": "sRGGvf0fL5-1"
   },
   "outputs": [
    {
     "name": "stdout",
     "output_type": "stream",
     "text": [
      "32/32 [==============================] - 2s 30ms/step - loss: 0.0244 - sparse_categorical_accuracy: 0.9940\n",
      "Test accuracy 0.9940000176429749\n",
      "Test loss 0.0244199987500906\n"
     ]
    }
   ],
   "source": [
    "model = keras.models.load_model(\"best_model.h5\")\n",
    "\n",
    "test_loss, test_acc = model.evaluate(x_test, y_test)\n",
    "\n",
    "print(\"Test accuracy\", test_acc)\n",
    "print(\"Test loss\", test_loss)"
   ]
  },
  {
   "cell_type": "markdown",
   "metadata": {
    "id": "JtC7itcNL5-1"
   },
   "source": [
    "## Plot the model's training and validation loss"
   ]
  },
  {
   "cell_type": "code",
   "execution_count": 11,
   "metadata": {
    "id": "tgJGL76yL5-1"
   },
   "outputs": [
    {
     "data": {
      "image/png": "[encoded data removed]",
      "text/plain": [
       "<Figure size 432x288 with 1 Axes>"
      ]
     },
     "metadata": {
      "needs_background": "light"
     },
     "output_type": "display_data"
    }
   ],
   "source": [
    "metric = \"sparse_categorical_accuracy\"\n",
    "plt.figure()\n",
    "plt.plot(history.history[metric])\n",
    "plt.plot(history.history[\"val_\" + metric])\n",
    "plt.title(\"model \" + metric)\n",
    "plt.ylabel(metric, fontsize=\"large\")\n",
    "plt.xlabel(\"epoch\", fontsize=\"large\")\n",
    "plt.legend([\"train\", \"val\"], loc=\"best\")\n",
    "plt.show()\n",
    "plt.close()"
   ]
  },
  {
   "cell_type": "markdown",
   "metadata": {
    "id": "Vz0LXhmFL5-1"
   },
   "source": []
  },
  {
   "cell_type": "code",
   "execution_count": null,
   "metadata": {},
   "outputs": [],
   "source": []
  }
 ],
 "metadata": {
  "accelerator": "GPU",
  "colab": {
   "name": "timeseries_classification_from_scratch",
   "provenance": [],
   "toc_visible": true
  },
  "kernelspec": {
   "display_name": "Python 3 (ipykernel)",
   "language": "python",
   "name": "python3"
  },
  "language_info": {
   "codemirror_mode": {
    "name": "ipython",
    "version": 3
   },
   "file_extension": ".py",
   "mimetype": "text/x-python",
   "name": "python",
   "nbconvert_exporter": "python",
   "pygments_lexer": "ipython3",
   "version": "3.10.2"
  },
  "toc": {
   "base_numbering": 1,
   "nav_menu": {},
   "number_sections": true,
   "sideBar": true,
   "skip_h1_title": false,
   "title_cell": "Table of Contents",
   "title_sidebar": "Contents",
   "toc_cell": false,
   "toc_position": {},
   "toc_section_display": true,
   "toc_window_display": false
  }
 },
 "nbformat": 4,
 "nbformat_minor": 1
}
