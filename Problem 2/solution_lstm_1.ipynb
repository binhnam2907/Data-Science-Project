{
 "cells": [
  {
   "cell_type": "markdown",
   "metadata": {},
   "source": [
    "## Preprocessing"
   ]
  },
  {
   "cell_type": "code",
   "execution_count": 1,
   "metadata": {
    "id": "zahFT_WUAqUq",
    "tags": []
   },
   "outputs": [
    {
     "data": {
      "text/html": [
       "<div>\n",
       "<style scoped>\n",
       "    .dataframe tbody tr th:only-of-type {\n",
       "        vertical-align: middle;\n",
       "    }\n",
       "\n",
       "    .dataframe tbody tr th {\n",
       "        vertical-align: top;\n",
       "    }\n",
       "\n",
       "    .dataframe thead th {\n",
       "        text-align: right;\n",
       "    }\n",
       "</style>\n",
       "<table border=\"1\" class=\"dataframe\">\n",
       "  <thead>\n",
       "    <tr style=\"text-align: right;\">\n",
       "      <th></th>\n",
       "      <th>Date</th>\n",
       "      <th>OT</th>\n",
       "    </tr>\n",
       "  </thead>\n",
       "  <tbody>\n",
       "    <tr>\n",
       "      <th>0</th>\n",
       "      <td>7/1/2016 0:00</td>\n",
       "      <td>38.661999</td>\n",
       "    </tr>\n",
       "    <tr>\n",
       "      <th>1</th>\n",
       "      <td>7/1/2016 1:00</td>\n",
       "      <td>37.124001</td>\n",
       "    </tr>\n",
       "    <tr>\n",
       "      <th>2</th>\n",
       "      <td>7/1/2016 2:00</td>\n",
       "      <td>36.465000</td>\n",
       "    </tr>\n",
       "    <tr>\n",
       "      <th>3</th>\n",
       "      <td>7/1/2016 3:00</td>\n",
       "      <td>33.608501</td>\n",
       "    </tr>\n",
       "    <tr>\n",
       "      <th>4</th>\n",
       "      <td>7/1/2016 4:00</td>\n",
       "      <td>31.850500</td>\n",
       "    </tr>\n",
       "    <tr>\n",
       "      <th>5</th>\n",
       "      <td>7/1/2016 5:00</td>\n",
       "      <td>30.532000</td>\n",
       "    </tr>\n",
       "    <tr>\n",
       "      <th>6</th>\n",
       "      <td>7/1/2016 6:00</td>\n",
       "      <td>30.093000</td>\n",
       "    </tr>\n",
       "    <tr>\n",
       "      <th>7</th>\n",
       "      <td>7/1/2016 7:00</td>\n",
       "      <td>29.872999</td>\n",
       "    </tr>\n",
       "    <tr>\n",
       "      <th>8</th>\n",
       "      <td>7/1/2016 8:00</td>\n",
       "      <td>29.653000</td>\n",
       "    </tr>\n",
       "    <tr>\n",
       "      <th>9</th>\n",
       "      <td>7/1/2016 9:00</td>\n",
       "      <td>29.213499</td>\n",
       "    </tr>\n",
       "  </tbody>\n",
       "</table>\n",
       "</div>"
      ],
      "text/plain": [
       "            Date         OT\n",
       "0  7/1/2016 0:00  38.661999\n",
       "1  7/1/2016 1:00  37.124001\n",
       "2  7/1/2016 2:00  36.465000\n",
       "3  7/1/2016 3:00  33.608501\n",
       "4  7/1/2016 4:00  31.850500\n",
       "5  7/1/2016 5:00  30.532000\n",
       "6  7/1/2016 6:00  30.093000\n",
       "7  7/1/2016 7:00  29.872999\n",
       "8  7/1/2016 8:00  29.653000\n",
       "9  7/1/2016 9:00  29.213499"
      ]
     },
     "execution_count": 1,
     "metadata": {},
     "output_type": "execute_result"
    }
   ],
   "source": [
    "import numpy as np\n",
    "import pandas as pd\n",
    "import seaborn as sn\n",
    "import matplotlib.pyplot as plt\n",
    "\n",
    "df = pd.read_csv('ETTh2.csv')\n",
    "df.head(10)"
   ]
  },
  {
   "cell_type": "code",
   "execution_count": 2,
   "metadata": {},
   "outputs": [
    {
     "data": {
      "text/html": [
       "<div>\n",
       "<style scoped>\n",
       "    .dataframe tbody tr th:only-of-type {\n",
       "        vertical-align: middle;\n",
       "    }\n",
       "\n",
       "    .dataframe tbody tr th {\n",
       "        vertical-align: top;\n",
       "    }\n",
       "\n",
       "    .dataframe thead th {\n",
       "        text-align: right;\n",
       "    }\n",
       "</style>\n",
       "<table border=\"1\" class=\"dataframe\">\n",
       "  <thead>\n",
       "    <tr style=\"text-align: right;\">\n",
       "      <th></th>\n",
       "      <th>Date</th>\n",
       "      <th>OT</th>\n",
       "    </tr>\n",
       "  </thead>\n",
       "  <tbody>\n",
       "    <tr>\n",
       "      <th>0</th>\n",
       "      <td>2016-07-01 00:00:00</td>\n",
       "      <td>38.661999</td>\n",
       "    </tr>\n",
       "    <tr>\n",
       "      <th>1</th>\n",
       "      <td>2016-07-01 01:00:00</td>\n",
       "      <td>37.124001</td>\n",
       "    </tr>\n",
       "    <tr>\n",
       "      <th>2</th>\n",
       "      <td>2016-07-01 02:00:00</td>\n",
       "      <td>36.465000</td>\n",
       "    </tr>\n",
       "    <tr>\n",
       "      <th>3</th>\n",
       "      <td>2016-07-01 03:00:00</td>\n",
       "      <td>33.608501</td>\n",
       "    </tr>\n",
       "    <tr>\n",
       "      <th>4</th>\n",
       "      <td>2016-07-01 04:00:00</td>\n",
       "      <td>31.850500</td>\n",
       "    </tr>\n",
       "    <tr>\n",
       "      <th>5</th>\n",
       "      <td>2016-07-01 05:00:00</td>\n",
       "      <td>30.532000</td>\n",
       "    </tr>\n",
       "    <tr>\n",
       "      <th>6</th>\n",
       "      <td>2016-07-01 06:00:00</td>\n",
       "      <td>30.093000</td>\n",
       "    </tr>\n",
       "    <tr>\n",
       "      <th>7</th>\n",
       "      <td>2016-07-01 07:00:00</td>\n",
       "      <td>29.872999</td>\n",
       "    </tr>\n",
       "    <tr>\n",
       "      <th>8</th>\n",
       "      <td>2016-07-01 08:00:00</td>\n",
       "      <td>29.653000</td>\n",
       "    </tr>\n",
       "    <tr>\n",
       "      <th>9</th>\n",
       "      <td>2016-07-01 09:00:00</td>\n",
       "      <td>29.213499</td>\n",
       "    </tr>\n",
       "  </tbody>\n",
       "</table>\n",
       "</div>"
      ],
      "text/plain": [
       "                 Date         OT\n",
       "0 2016-07-01 00:00:00  38.661999\n",
       "1 2016-07-01 01:00:00  37.124001\n",
       "2 2016-07-01 02:00:00  36.465000\n",
       "3 2016-07-01 03:00:00  33.608501\n",
       "4 2016-07-01 04:00:00  31.850500\n",
       "5 2016-07-01 05:00:00  30.532000\n",
       "6 2016-07-01 06:00:00  30.093000\n",
       "7 2016-07-01 07:00:00  29.872999\n",
       "8 2016-07-01 08:00:00  29.653000\n",
       "9 2016-07-01 09:00:00  29.213499"
      ]
     },
     "execution_count": 2,
     "metadata": {},
     "output_type": "execute_result"
    }
   ],
   "source": [
    "# Converting the dt column to datetime object \n",
    "df['Date'] = [pd.to_datetime(x) for x in df['Date']]\n",
    "df.head(10)"
   ]
  },
  {
   "cell_type": "code",
   "execution_count": 3,
   "metadata": {},
   "outputs": [
    {
     "data": {
      "text/html": [
       "<div>\n",
       "<style scoped>\n",
       "    .dataframe tbody tr th:only-of-type {\n",
       "        vertical-align: middle;\n",
       "    }\n",
       "\n",
       "    .dataframe tbody tr th {\n",
       "        vertical-align: top;\n",
       "    }\n",
       "\n",
       "    .dataframe thead th {\n",
       "        text-align: right;\n",
       "    }\n",
       "</style>\n",
       "<table border=\"1\" class=\"dataframe\">\n",
       "  <thead>\n",
       "    <tr style=\"text-align: right;\">\n",
       "      <th></th>\n",
       "      <th>Date</th>\n",
       "      <th>OT</th>\n",
       "    </tr>\n",
       "  </thead>\n",
       "  <tbody>\n",
       "    <tr>\n",
       "      <th>0</th>\n",
       "      <td>2016-07-01 00:00:00</td>\n",
       "      <td>38.661999</td>\n",
       "    </tr>\n",
       "    <tr>\n",
       "      <th>1</th>\n",
       "      <td>2016-07-01 01:00:00</td>\n",
       "      <td>37.124001</td>\n",
       "    </tr>\n",
       "    <tr>\n",
       "      <th>2</th>\n",
       "      <td>2016-07-01 02:00:00</td>\n",
       "      <td>36.465000</td>\n",
       "    </tr>\n",
       "    <tr>\n",
       "      <th>3</th>\n",
       "      <td>2016-07-01 03:00:00</td>\n",
       "      <td>33.608501</td>\n",
       "    </tr>\n",
       "    <tr>\n",
       "      <th>4</th>\n",
       "      <td>2016-07-01 04:00:00</td>\n",
       "      <td>31.850500</td>\n",
       "    </tr>\n",
       "    <tr>\n",
       "      <th>5</th>\n",
       "      <td>2016-07-01 05:00:00</td>\n",
       "      <td>30.532000</td>\n",
       "    </tr>\n",
       "    <tr>\n",
       "      <th>6</th>\n",
       "      <td>2016-07-01 06:00:00</td>\n",
       "      <td>30.093000</td>\n",
       "    </tr>\n",
       "    <tr>\n",
       "      <th>7</th>\n",
       "      <td>2016-07-01 07:00:00</td>\n",
       "      <td>29.872999</td>\n",
       "    </tr>\n",
       "    <tr>\n",
       "      <th>8</th>\n",
       "      <td>2016-07-01 08:00:00</td>\n",
       "      <td>29.653000</td>\n",
       "    </tr>\n",
       "    <tr>\n",
       "      <th>9</th>\n",
       "      <td>2016-07-01 09:00:00</td>\n",
       "      <td>29.213499</td>\n",
       "    </tr>\n",
       "  </tbody>\n",
       "</table>\n",
       "</div>"
      ],
      "text/plain": [
       "                 Date         OT\n",
       "0 2016-07-01 00:00:00  38.661999\n",
       "1 2016-07-01 01:00:00  37.124001\n",
       "2 2016-07-01 02:00:00  36.465000\n",
       "3 2016-07-01 03:00:00  33.608501\n",
       "4 2016-07-01 04:00:00  31.850500\n",
       "5 2016-07-01 05:00:00  30.532000\n",
       "6 2016-07-01 06:00:00  30.093000\n",
       "7 2016-07-01 07:00:00  29.872999\n",
       "8 2016-07-01 08:00:00  29.653000\n",
       "9 2016-07-01 09:00:00  29.213499"
      ]
     },
     "execution_count": 3,
     "metadata": {},
     "output_type": "execute_result"
    }
   ],
   "source": [
    "df = df.sort_values('Date')\n",
    "df.head(10)"
   ]
  },
  {
   "cell_type": "code",
   "execution_count": null,
   "metadata": {
    "id": "n5oDzg62WTUU",
    "tags": []
   },
   "outputs": [],
   "source": []
  },
  {
   "cell_type": "code",
   "execution_count": null,
   "metadata": {},
   "outputs": [],
   "source": []
  },
  {
   "cell_type": "markdown",
   "metadata": {},
   "source": [
    "## Prepare data"
   ]
  },
  {
   "cell_type": "code",
   "execution_count": 4,
   "metadata": {},
   "outputs": [],
   "source": [
    "INPUT_SIZE = 48 # Dùng `input_size` giờ trước\n",
    "LABEL_SIZE = 12  # Để dự đoán nhiệt độ trong `label_size` giờ\n",
    "BATCH_SIZE = 32\n",
    "FEATURE_FINAL = ['OT']\n",
    "label_name = 'OT'"
   ]
  },
  {
   "cell_type": "code",
   "execution_count": 5,
   "metadata": {},
   "outputs": [],
   "source": [
    "def slicing_window(df, df_start_idx, df_end_idx, input_size, label_size, label_name):\n",
    "    features = [] # Khai báo list dùng để lưu trữ các X\n",
    "    labels = []   # Khai báo list dùng để lưu trữ các y\n",
    "\n",
    "    window_size = input_size + label_size # Tính kích thước của window\n",
    "\n",
    "    # Nếu df_end_idx = chỉ mục cuối cùng bảng dữ liệu, cần phải dời xuống 1 khoảng = window size \n",
    "    if df_end_idx == None:\n",
    "        df_end_idx = len(df) - window_size \n",
    "    \n",
    "    # Duyệt qua từng mẫu dữ liệu\n",
    "    for idx in range(df_start_idx, df_end_idx):\n",
    "        feature_end_idx = idx + input_size # Tính chỉ mục kết thúc của X\n",
    "        label_start_idx = idx + window_size - label_size # Tính chỉ mục bắt đầu của y\n",
    "\n",
    "        feature = df[idx:feature_end_idx] # Lấy X\n",
    "        label = df[label_name][label_start_idx:(idx+window_size)] # Lấy y\n",
    "\n",
    "        features.append(feature) \n",
    "        labels.append(label)\n",
    "\n",
    "    # Chuyển list thành np.ndarrray\n",
    "    features = np.array(features)\n",
    "    print(features.shape)\n",
    "    labels = np.array(labels)\n",
    "\n",
    "    return features, labels"
   ]
  },
  {
   "cell_type": "code",
   "execution_count": 6,
   "metadata": {},
   "outputs": [
    {
     "name": "stdout",
     "output_type": "stream",
     "text": [
      "(13936, 48, 1)\n",
      "(1742, 48, 1)\n",
      "(1682, 48, 1)\n"
     ]
    }
   ],
   "source": [
    "dataset_length = len(df) # Số lượng mẫu dữ liệu trong DataFrame\n",
    "TRAIN_SIZE = 0.8         # Tỉ lệ kích thước tập train\n",
    "VAL_SIZE = 0.1           # Tỉ lệ kích thước tập val\n",
    "\n",
    "# Đổi tỉ lệ thành chỉ mục\n",
    "TRAIN_END_IDX = int(TRAIN_SIZE * dataset_length) \n",
    "VAL_END_IDX = int(VAL_SIZE * dataset_length) + TRAIN_END_IDX\n",
    "df = df[FEATURE_FINAL]\n",
    "\n",
    "# Khởi tạo X, y cho tập train\n",
    "X_train, y_train = slicing_window(df, \n",
    "                                  df_start_idx=0,\n",
    "                                  df_end_idx=TRAIN_END_IDX,\n",
    "                                  input_size=INPUT_SIZE,\n",
    "                                  label_size=LABEL_SIZE,\n",
    "                                  label_name = label_name)\n",
    "\n",
    "# Khởi tạo X, y cho tập val\n",
    "X_val, y_val = slicing_window(df, \n",
    "                              df_start_idx=TRAIN_END_IDX,\n",
    "                              df_end_idx=VAL_END_IDX,\n",
    "                              input_size=INPUT_SIZE,\n",
    "                              label_size=LABEL_SIZE,\n",
    "                              label_name = label_name)\n",
    "\n",
    "# Khởi tạo X, y cho tập test\n",
    "X_test, y_test = slicing_window(df, \n",
    "                                df_start_idx=VAL_END_IDX,\n",
    "                                df_end_idx=None,\n",
    "                                input_size=INPUT_SIZE,\n",
    "                                label_size=LABEL_SIZE,\n",
    "                                label_name = label_name)"
   ]
  },
  {
   "cell_type": "code",
   "execution_count": 7,
   "metadata": {},
   "outputs": [
    {
     "name": "stdout",
     "output_type": "stream",
     "text": [
      "(13936, 48, 1)\n",
      "(13936, 12)\n"
     ]
    }
   ],
   "source": [
    "print(X_train.shape)\n",
    "print(y_train.shape)"
   ]
  },
  {
   "cell_type": "code",
   "execution_count": null,
   "metadata": {},
   "outputs": [],
   "source": []
  },
  {
   "cell_type": "code",
   "execution_count": 8,
   "metadata": {},
   "outputs": [],
   "source": [
    "import tensorflow as tf\n",
    "\n",
    "# Khởi tạo tf.data.Dataset\n",
    "train_ds = tf.data.Dataset.from_tensor_slices((X_train, y_train)).batch(BATCH_SIZE)\n",
    "val_ds   = tf.data.Dataset.from_tensor_slices((X_val, y_val)).batch(BATCH_SIZE)\n",
    "test_ds  = tf.data.Dataset.from_tensor_slices((X_test, y_test)).batch(BATCH_SIZE)\n",
    "\n",
    "# Cấu hình các tham số tối ưu cho việc đọc dữ liệu\n",
    "AUTOTUNE = tf.data.AUTOTUNE\n",
    "train_ds = train_ds.cache().prefetch(buffer_size=AUTOTUNE)\n",
    "val_ds   = val_ds.cache().prefetch(buffer_size=AUTOTUNE)"
   ]
  },
  {
   "cell_type": "code",
   "execution_count": null,
   "metadata": {},
   "outputs": [],
   "source": []
  },
  {
   "cell_type": "markdown",
   "metadata": {},
   "source": [
    "## Model and train"
   ]
  },
  {
   "cell_type": "code",
   "execution_count": 9,
   "metadata": {},
   "outputs": [],
   "source": [
    "# Khai báo normalization layer\n",
    "normalize_layer = tf.keras.layers.Normalization(axis=-1)\n",
    "normalize_layer.adapt(np.vstack((X_train, X_val, X_test)))"
   ]
  },
  {
   "cell_type": "code",
   "execution_count": 10,
   "metadata": {},
   "outputs": [
    {
     "name": "stdout",
     "output_type": "stream",
     "text": [
      "Model: \"sequential\"\n",
      "_________________________________________________________________\n",
      " Layer (type)                Output Shape              Param #   \n",
      "=================================================================\n",
      " normalization (Normalizatio  (None, 48, 1)            3         \n",
      " n)                                                              \n",
      "                                                                 \n",
      " lstm (LSTM)                 (None, 48, 32)            4352      \n",
      "                                                                 \n",
      " lstm_1 (LSTM)               (None, 32)                8320      \n",
      "                                                                 \n",
      " dense (Dense)               (None, 16)                528       \n",
      "                                                                 \n",
      " dense_1 (Dense)             (None, 12)                204       \n",
      "                                                                 \n",
      "=================================================================\n",
      "Total params: 13,407\n",
      "Trainable params: 13,404\n",
      "Non-trainable params: 3\n",
      "_________________________________________________________________\n"
     ]
    }
   ],
   "source": [
    "input_shape = X_train.shape[-2:]\n",
    "model = tf.keras.Sequential([tf.keras.Input(shape=input_shape, name='input_layer'), \n",
    "                             normalize_layer,  \n",
    "                             tf.keras.layers.LSTM(32, return_sequences=True), \n",
    "                             tf.keras.layers.LSTM(32), \n",
    "                             tf.keras.layers.Dense(16),\n",
    "                             tf.keras.layers.Dense(LABEL_SIZE)])\n",
    "\n",
    "model.summary()"
   ]
  },
  {
   "cell_type": "code",
   "execution_count": null,
   "metadata": {},
   "outputs": [],
   "source": []
  },
  {
   "cell_type": "code",
   "execution_count": 11,
   "metadata": {},
   "outputs": [
    {
     "name": "stdout",
     "output_type": "stream",
     "text": [
      "Epoch 1/30\n",
      "436/436 [==============================] - 128s 176ms/step - loss: 11.1082 - val_loss: 6.9427\n",
      "Epoch 2/30\n",
      "436/436 [==============================] - 56s 129ms/step - loss: 6.1148 - val_loss: 6.9862\n",
      "Epoch 3/30\n",
      "436/436 [==============================] - 65s 148ms/step - loss: 5.3060 - val_loss: 6.6588\n",
      "Epoch 4/30\n",
      "436/436 [==============================] - 66s 152ms/step - loss: 5.0225 - val_loss: 6.2578\n",
      "Epoch 5/30\n",
      "436/436 [==============================] - 63s 143ms/step - loss: 4.4626 - val_loss: 5.9869\n",
      "Epoch 6/30\n",
      "436/436 [==============================] - 58s 133ms/step - loss: 4.2324 - val_loss: 5.4117\n",
      "Epoch 7/30\n",
      "278/436 [==================>...........] - ETA: 20s - loss: 4.1295"
     ]
    }
   ],
   "source": [
    "# Khai báo một số giá trị siêu tham số\n",
    "EPOCHS = 30\n",
    "LR = 1e-3\n",
    "\n",
    "# Cấu hình một số thông tin cho mô hình\n",
    "model.compile(optimizer=tf.keras.optimizers.Adam(learning_rate=LR),\n",
    "              loss=tf.keras.losses.MeanAbsoluteError())\n",
    "history = model.fit(train_ds, \n",
    "                    validation_data=val_ds,\n",
    "                    epochs=EPOCHS)"
   ]
  },
  {
   "cell_type": "code",
   "execution_count": null,
   "metadata": {},
   "outputs": [],
   "source": []
  },
  {
   "cell_type": "code",
   "execution_count": null,
   "metadata": {},
   "outputs": [
    {
     "name": "stdout",
     "output_type": "stream",
     "text": [
      "53/53 [==============================] - 0s 1ms/step - loss: 3.8853\n"
     ]
    }
   ],
   "source": [
    "# Đánh giá mô hình trên tập test\n",
    "test_evaluation = model.evaluate(test_ds)"
   ]
  },
  {
   "cell_type": "code",
   "execution_count": null,
   "metadata": {},
   "outputs": [
    {
     "data": {
      "image/png": "[encoded data removed]",
      "text/plain": [
       "<Figure size 1000x500 with 2 Axes>"
      ]
     },
     "metadata": {},
     "output_type": "display_data"
    }
   ],
   "source": [
    "train_loss = history.history['loss']# Đọc thông tin loss trên tập train\n",
    "val_loss = history.history['val_loss'] # Đọc thông tin loss trên tập val\n",
    "\n",
    "plt.figure(figsize=(10, 5)) # Cài đặt kích thước khung ảnh\n",
    "\n",
    "plt.subplot(1, 2, 1) # Khởi tạo khung ảnh cho training loss\n",
    "plt.xlabel('Epochs') # Hiển thị tên trục hoành là 'Epochs'\n",
    "plt.ylabel('Loss') # Hiển thị tên trục tung là 'Loss'\n",
    "plt.title('Training loss') # Hiển thị title của khung ảnh hiện tại là 'Training Loss'\n",
    "plt.plot(train_loss, color='red') # Vẽ đường giá trị loss trên tập train qua từng epoch (đường vẽ màu đỏ)\n",
    "\n",
    "plt.subplot(1, 2, 2) # Khởi tạo khung ảnh cho val loss\n",
    "plt.xlabel('Epochs') # Hiển thị tên trục hoành là 'Epochs'\n",
    "plt.ylabel('Loss') # Hiển thị tên trục tung là 'Loss'\n",
    "plt.title('Validation loss') # Hiển thị title của khung ảnh hiện tại là 'Validation loss'\n",
    "plt.plot(val_loss, color='orange') # Vẽ đường giá trị loss trên tập val qua từng epoch (đường vẽ màu đỏ)\n",
    "\n",
    "plt.show() # Hiển thị 2 khung ảnh nhỏ"
   ]
  },
  {
   "cell_type": "code",
   "execution_count": null,
   "metadata": {},
   "outputs": [],
   "source": []
  }
 ],
 "metadata": {
  "accelerator": "GPU",
  "colab": {
   "provenance": []
  },
  "gpuClass": "standard",
  "kernelspec": {
   "display_name": "Python 3",
   "language": "python",
   "name": "python3"
  },
  "language_info": {
   "codemirror_mode": {
    "name": "ipython",
    "version": 3
   },
   "file_extension": ".py",
   "mimetype": "text/x-python",
   "name": "python",
   "nbconvert_exporter": "python",
   "pygments_lexer": "ipython3",
   "version": "3.10.2"
  },
  "toc": {
   "base_numbering": 1,
   "nav_menu": {},
   "number_sections": true,
   "sideBar": true,
   "skip_h1_title": false,
   "title_cell": "Table of Contents",
   "title_sidebar": "Contents",
   "toc_cell": false,
   "toc_position": {},
   "toc_section_display": true,
   "toc_window_display": false
  },
  "vscode": {
   "interpreter": {
    "hash": "a42ccb73e7d9bfdf27e036f1d2b8b681e55fc0743cc5586bc2474d4a60f4b886"
   }
  }
 },
 "nbformat": 4,
 "nbformat_minor": 1
}
